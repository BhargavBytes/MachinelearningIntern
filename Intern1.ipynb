{
  "nbformat": 4,
  "nbformat_minor": 0,
  "metadata": {
    "colab": {
      "provenance": []
    },
    "kernelspec": {
      "name": "python3",
      "display_name": "Python 3"
    },
    "language_info": {
      "name": "python"
    }
  },
  "cells": [
    {
      "cell_type": "code",
      "execution_count": 4,
      "metadata": {
        "colab": {
          "base_uri": "https://localhost:8080/"
        },
        "id": "Apj5NRD7qcr8",
        "outputId": "99a4a26c-6fa3-4548-cabd-424c6c13b7d2"
      },
      "outputs": [
        {
          "output_type": "stream",
          "name": "stdout",
          "text": [
            "Linear Regression Mean Squared Error: 6.649448978774463e-31\n",
            "Neural Network Mean Squared Error: 0.00023089021851774305\n"
          ]
        }
      ],
      "source": [
        "import pandas as pd\n",
        "import numpy as np\n",
        "from sklearn.model_selection import train_test_split\n",
        "from sklearn.preprocessing import StandardScaler\n",
        "from sklearn.linear_model import LinearRegression\n",
        "from sklearn.metrics import mean_squared_error\n",
        "import tensorflow as tf\n",
        "from tensorflow.keras.models import Sequential\n",
        "from tensorflow.keras.layers import Dense\n",
        "\n",
        "data = pd.read_csv(\"/content/data.csv\")\n",
        "features = data.drop(\"price\", axis=1)\n",
        "target = data[\"floors\"]\n",
        "\n",
        "X_train, X_test, y_train, y_test = train_test_split(features, target, test_size=0.2, random_state=42)\n",
        "\n",
        "non_numerical_cols = X_train.select_dtypes(include=[\"object\"]).columns\n",
        "X_train.drop(non_numerical_cols, axis=1, inplace=True)\n",
        "X_test.drop(non_numerical_cols, axis=1, inplace=True)\n",
        "scaler = StandardScaler()\n",
        "X_train_scaled = scaler.fit_transform(X_train)\n",
        "X_test_scaled = scaler.transform(X_test)\n",
        "\n",
        "lr_model = LinearRegression()\n",
        "lr_model.fit(X_train_scaled, y_train)\n",
        "lr_predictions = lr_model.predict(X_test_scaled)\n",
        "lr_mse = mean_squared_error(y_test, lr_predictions)\n",
        "print(\"Linear Regression Mean Squared Error:\", lr_mse)\n",
        "\n",
        "nn_model = Sequential([\n",
        "    Dense(64, activation='relu', input_shape=[X_train_scaled.shape[1]]),\n",
        "    Dense(32, activation='relu'),\n",
        "    Dense(1)\n",
        "])\n",
        "\n",
        "nn_model.compile(optimizer='adam', loss='mse')\n",
        "\n",
        "y_train_np = np.array(y_train)\n",
        "\n",
        "nn_model.fit(X_train_scaled, y_train_np, epochs=100, batch_size=32, verbose=0)\n",
        "nn_mse = nn_model.evaluate(X_test_scaled, y_test, verbose=0)\n",
        "print(\"Neural Network Mean Squared Error:\", nn_mse)\n"
      ]
    }
  ]
}